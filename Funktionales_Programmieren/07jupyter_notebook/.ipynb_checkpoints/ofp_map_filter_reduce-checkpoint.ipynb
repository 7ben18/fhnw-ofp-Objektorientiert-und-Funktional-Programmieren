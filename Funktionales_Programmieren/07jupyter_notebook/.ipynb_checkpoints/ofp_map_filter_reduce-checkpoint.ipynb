{
 "cells": [
  {
   "cell_type": "markdown",
   "id": "0a3b5a89",
   "metadata": {},
   "source": [
    "# Map Funktion"
   ]
  },
  {
   "cell_type": "code",
   "execution_count": 1,
   "id": "467444fb",
   "metadata": {},
   "outputs": [
    {
     "name": "stdout",
     "output_type": "stream",
     "text": [
      "[12.56, 78.5, 153.86, 3.14, 200.96, 314.0]\n"
     ]
    }
   ],
   "source": [
    "# Imperativ \n",
    "\n",
    "def area(r):\n",
    "    return 3.14 * r ** 2\n",
    "\n",
    "radii=[2,5,7,1,8,10]\n",
    "\n",
    "areas = []\n",
    "for i in radii:\n",
    "    areas.append(area(i))\n",
    "    \n",
    "print(areas)"
   ]
  },
  {
   "cell_type": "code",
   "execution_count": 2,
   "id": "42313582",
   "metadata": {},
   "outputs": [
    {
     "data": {
      "text/plain": [
       "[12.56, 78.5, 153.86, 3.14, 200.96, 314.0]"
      ]
     },
     "execution_count": 2,
     "metadata": {},
     "output_type": "execute_result"
    }
   ],
   "source": [
    "# Funktional mit map Funktion\n",
    "## map braucht eine Funktion und eine Liste!\n",
    "\n",
    "list(map(lambda x: x ** 2 * 3.14, [2,5,7,1,8,10]))"
   ]
  },
  {
   "cell_type": "code",
   "execution_count": 3,
   "id": "7ee5c97f",
   "metadata": {},
   "outputs": [
    {
     "data": {
      "text/plain": [
       "[('Berlin', 84.2),\n",
       " ('Cairo', 96.8),\n",
       " ('Buenos Aires', 66.2),\n",
       " ('Los Angeles', 78.80000000000001),\n",
       " ('Tokyo', 80.6),\n",
       " ('New York', 82.4),\n",
       " ('London', 71.6)]"
      ]
     },
     "execution_count": 3,
     "metadata": {},
     "output_type": "execute_result"
    }
   ],
   "source": [
    "# Grad Celsius in Fahrenheit\n",
    "\n",
    "temps = [(\"Berlin\", 29), (\"Cairo\", 36), (\"Buenos Aires\", 19), (\"Los Angeles\", 26), (\"Tokyo\", 27), (\"New York\", 28), (\"London\", 22)]\n",
    "\n",
    "list(map(lambda x: (x[0], x[1] * (9/5) + 32), temps))"
   ]
  },
  {
   "cell_type": "markdown",
   "id": "aac4c34c",
   "metadata": {},
   "source": [
    "# Filter Funktion"
   ]
  },
  {
   "cell_type": "code",
   "execution_count": 4,
   "id": "46f743ab",
   "metadata": {},
   "outputs": [
    {
     "data": {
      "text/plain": [
       "[16.5, 25, 15.2, 12]"
      ]
     },
     "execution_count": 4,
     "metadata": {},
     "output_type": "execute_result"
    }
   ],
   "source": [
    "# Filter braucht eine Funktion und eine Liste\n",
    "data = [1.3,1.5,16.5,25,15.2,12]\n",
    "\n",
    "list(filter(lambda x: x > 10, data))"
   ]
  },
  {
   "cell_type": "code",
   "execution_count": 5,
   "id": "07473c26",
   "metadata": {},
   "outputs": [
    {
     "name": "stdout",
     "output_type": "stream",
     "text": [
      "['Argentina', 'Ukraine', 'Switzerland']\n",
      "['Argentina', 'Ukraine', 'Switzerland']\n"
     ]
    }
   ],
   "source": [
    "# Removing missing data\n",
    "\n",
    "countries = [\"\", \"Argentina\", \"Ukraine\", \"\", \"\", \"Switzerland\", \"\"]\n",
    "\n",
    "print(list(filter(None, countries)))   # None = \"\", 0, 0.0, 0j, [], {}. (). False, None\n",
    "# oder\n",
    "print(list(filter(lambda x: len(x) > 1, countries)))\n"
   ]
  },
  {
   "cell_type": "markdown",
   "id": "8c146754",
   "metadata": {},
   "source": [
    "# Reduce Funktion"
   ]
  },
  {
   "cell_type": "code",
   "execution_count": 6,
   "id": "b954950b",
   "metadata": {},
   "outputs": [],
   "source": [
    "from functools import reduce"
   ]
  },
  {
   "cell_type": "code",
   "execution_count": 7,
   "id": "cc5e9f3c",
   "metadata": {},
   "outputs": [
    {
     "data": {
      "text/plain": [
       "499200"
      ]
     },
     "execution_count": 7,
     "metadata": {},
     "output_type": "execute_result"
    }
   ],
   "source": [
    "# Funktionales Programmieren\n",
    "\n",
    "# Multiply all numbers in a list:\n",
    "nums = [2,3,5,1,2,65,4,32]\n",
    "\n",
    "# Reduce benoetigt eine Funktion, die 2 Parameter hat. 1 Liste und einen Startwert\n",
    "\n",
    "reduce(lambda x, y: x * y, nums, 1)"
   ]
  },
  {
   "cell_type": "code",
   "execution_count": 8,
   "id": "a36d8c17",
   "metadata": {},
   "outputs": [
    {
     "name": "stdout",
     "output_type": "stream",
     "text": [
      "499200\n"
     ]
    }
   ],
   "source": [
    "# Imperatives Programmieren\n",
    "# Reduce ist eine unnoetige Funktion die man nicht heutzutage nicht mehr braucht, \n",
    "# Einfacher ist es eine Schleife zu erstellen. (Imperatives Programmieren), => Problem: Seiteneffekte! (Zuweisung einer Variabel)\n",
    "\n",
    "product = 1\n",
    "for x in nums:\n",
    "    product = product * x\n",
    "print(product)"
   ]
  },
  {
   "cell_type": "markdown",
   "id": "b17b215b",
   "metadata": {},
   "source": [
    "# Zusammengefasst map, filter, reduce"
   ]
  },
  {
   "cell_type": "code",
   "execution_count": 9,
   "id": "539629bc",
   "metadata": {},
   "outputs": [
    {
     "name": "stdout",
     "output_type": "stream",
     "text": [
      "[2, 3, 4, 5]\n",
      "[3, 4]\n",
      "10\n"
     ]
    }
   ],
   "source": [
    "funktion1 = lambda x: x + 1\n",
    "funktion2 = lambda x: x >= 3\n",
    "funktion3 = lambda x, y: x + y\n",
    "\n",
    "liste = [1,2,3,4]\n",
    "\n",
    "startwert = 0\n",
    "\n",
    "# map braucht 1 Funktion und 1 Liste\n",
    "\n",
    "print(list(map(funktion1, liste)))\n",
    "\n",
    "# filter braucht 1 Funktion und 1 Liste\n",
    "\n",
    "print(list(filter(funktion2, liste)))\n",
    "\n",
    "# Reduce braucht 1 Funktion mit 2 Parameter, 1 Liste und 1 Startwert\n",
    "## reduce wird von functools importiert!\n",
    "\n",
    "from functools import reduce\n",
    "print(reduce(funktion3, liste, startwert))\n",
    "\n",
    "# Bemerkung: bei map und filter erhalten wir ein Objekt zurueck.\n",
    "# Dieses Objekt packen wir dann in eine Liste. \n",
    "# list(object)\n"
   ]
  },
  {
   "cell_type": "code",
   "execution_count": 10,
   "id": "87879460",
   "metadata": {},
   "outputs": [
    {
     "name": "stdout",
     "output_type": "stream",
     "text": [
      "[2, 3, 4, 5]\n",
      "[3, 4]\n"
     ]
    }
   ],
   "source": [
    "# Fragen an Wolfgang:\n",
    "# Warum mache ich bei map und filter kein \"generator\" Comprehension und verpacke diese dann in eine Liste?\n",
    "# Ist das Effizienter als map und filter?\n",
    "\n",
    "print(list((x + 1 for x in liste)))\n",
    "\n",
    "print(list((x for x in liste if x >= 3)))"
   ]
  }
 ],
 "metadata": {
  "kernelspec": {
   "display_name": "Python 3 (ipykernel)",
   "language": "python",
   "name": "python3"
  },
  "language_info": {
   "codemirror_mode": {
    "name": "ipython",
    "version": 3
   },
   "file_extension": ".py",
   "mimetype": "text/x-python",
   "name": "python",
   "nbconvert_exporter": "python",
   "pygments_lexer": "ipython3",
   "version": "3.9.7"
  }
 },
 "nbformat": 4,
 "nbformat_minor": 5
}
