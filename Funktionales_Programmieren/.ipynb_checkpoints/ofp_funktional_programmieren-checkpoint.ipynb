{
 "cells": [
  {
   "cell_type": "markdown",
   "id": "c14712e1",
   "metadata": {},
   "source": [
    "# 1. Einleitung"
   ]
  },
  {
   "cell_type": "code",
   "execution_count": 1,
   "id": "78c9b7ee",
   "metadata": {},
   "outputs": [],
   "source": [
    "# Fibonacci Funktionen\n",
    "def fibonacci_rec(n: int) -> int: return n if n <= 1 else fibonacci_rec(n - 1) + fibonacci_rec(n - 2)"
   ]
  },
  {
   "cell_type": "code",
   "execution_count": 2,
   "id": "c276a713",
   "metadata": {},
   "outputs": [],
   "source": [
    "import timeit"
   ]
  },
  {
   "cell_type": "code",
   "execution_count": 3,
   "id": "539d2ff9",
   "metadata": {},
   "outputs": [
    {
     "name": "stdout",
     "output_type": "stream",
     "text": [
      "219 ns ± 42.1 ns per loop (mean ± std. dev. of 7 runs, 10,000 loops each)\n"
     ]
    }
   ],
   "source": [
    "%%timeit -n 10000\n",
    "fibonacci_rec(2)"
   ]
  },
  {
   "cell_type": "code",
   "execution_count": 4,
   "id": "b0d50fdd",
   "metadata": {},
   "outputs": [
    {
     "name": "stdout",
     "output_type": "stream",
     "text": [
      "1.14 µs ± 124 ns per loop (mean ± std. dev. of 7 runs, 10,000 loops each)\n"
     ]
    }
   ],
   "source": [
    "%%timeit -n 10000\n",
    "fibonacci_rec(5)"
   ]
  },
  {
   "cell_type": "code",
   "execution_count": 5,
   "id": "24ab3abc",
   "metadata": {},
   "outputs": [
    {
     "name": "stdout",
     "output_type": "stream",
     "text": [
      "5.48 µs ± 994 ns per loop (mean ± std. dev. of 7 runs, 10,000 loops each)\n"
     ]
    }
   ],
   "source": [
    "%%timeit -n 10000\n",
    "fibonacci_rec(8)"
   ]
  },
  {
   "cell_type": "code",
   "execution_count": 6,
   "id": "7a8fc670",
   "metadata": {},
   "outputs": [],
   "source": [
    "cnt = 0\n",
    "def fibonacci_rec_cnt(n: int) -> int:\n",
    "    global cnt\n",
    "    cnt += 1\n",
    "    return n if n <= 1 else fibonacci_rec(n - 1) + fibonacci_rec(n - 2)"
   ]
  },
  {
   "cell_type": "code",
   "execution_count": 7,
   "id": "0978841f",
   "metadata": {},
   "outputs": [
    {
     "name": "stdout",
     "output_type": "stream",
     "text": [
      "55 1\n"
     ]
    }
   ],
   "source": [
    "print(fibonacci_rec_cnt(10), cnt)"
   ]
  },
  {
   "cell_type": "markdown",
   "id": "53bac299",
   "metadata": {},
   "source": [
    "# 2. Aufgaben mit rekursiven Fibonacci-Funktionen"
   ]
  },
  {
   "cell_type": "markdown",
   "id": "c83c5b38",
   "metadata": {},
   "source": [
    "## Aufgabe 1"
   ]
  },
  {
   "cell_type": "code",
   "execution_count": 8,
   "id": "c27c3138",
   "metadata": {},
   "outputs": [],
   "source": [
    "# Mit der Global Anweisung bezieht sicht cnt auf die Variabel die sich ausserhalb der Funktion befindet. \n",
    "# Wichtig bei der Funktionalen Programmierung, ist dass keine Seiteneffekte auftreten. \n",
    "# cnt ist eine definierte Variabel und aendert seinen Wert, je nachdem wie oft man die Funktion aufruft. "
   ]
  },
  {
   "cell_type": "markdown",
   "id": "a3ddff1e",
   "metadata": {},
   "source": [
    "## Aufgabe 2"
   ]
  },
  {
   "cell_type": "code",
   "execution_count": 106,
   "id": "3e78ecf4",
   "metadata": {},
   "outputs": [
    {
     "name": "stdout",
     "output_type": "stream",
     "text": [
      "(1, 55)\n"
     ]
    }
   ],
   "source": [
    "def fibonacci_rec_cnt(n: int, cnt=0) -> tuple:\n",
    "    cnt += 1\n",
    "    return cnt, n if n <= 1 else fibonacci_rec(n - 1) + fibonacci_rec(n - 2)\n",
    "\n",
    "print(fibonacci_rec_cnt(10))"
   ]
  },
  {
   "cell_type": "markdown",
   "id": "346e9e81",
   "metadata": {},
   "source": [
    "# Aufgabe 3"
   ]
  },
  {
   "cell_type": "code",
   "execution_count": 95,
   "id": "3ec4a808",
   "metadata": {},
   "outputs": [],
   "source": [
    "# leeres fib_dict\n",
    "fib_dict = {}"
   ]
  },
  {
   "cell_type": "code",
   "execution_count": 96,
   "id": "7aa2ce43",
   "metadata": {},
   "outputs": [
    {
     "name": "stdout",
     "output_type": "stream",
     "text": [
      "6765\n"
     ]
    }
   ],
   "source": [
    "def fibonacci_rec_func(x: int):\n",
    "    if x in fib_dict:\n",
    "        print(fib_dict[x])\n",
    "    else:\n",
    "        fib_dict[x] = fibonacci_rec(x)\n",
    "        print(fib_dict[x])\n",
    "        \n",
    "fibonacci_rec_func(20)"
   ]
  },
  {
   "cell_type": "code",
   "execution_count": 97,
   "id": "f6bcd34a",
   "metadata": {
    "scrolled": true
   },
   "outputs": [
    {
     "name": "stdout",
     "output_type": "stream",
     "text": [
      "{20: 6765}\n"
     ]
    }
   ],
   "source": [
    "print(fib_dict)"
   ]
  },
  {
   "cell_type": "markdown",
   "id": "4de0f96f",
   "metadata": {},
   "source": [
    "# Aufgabe 4"
   ]
  },
  {
   "cell_type": "code",
   "execution_count": 98,
   "id": "a978cdf4",
   "metadata": {},
   "outputs": [],
   "source": [
    "# leeres fib_dict\n",
    "fib_dict_2 = {}"
   ]
  },
  {
   "cell_type": "code",
   "execution_count": 114,
   "id": "a87077c1",
   "metadata": {},
   "outputs": [
    {
     "name": "stdout",
     "output_type": "stream",
     "text": [
      "(1, 1346269)\n"
     ]
    }
   ],
   "source": [
    "def fibonacci_rec_func2(x: int):\n",
    "    if x in fib_dict_2:\n",
    "        print(fib_dict_2[x])\n",
    "    else:\n",
    "        fib_dict_2[x] = tuple(fibonacci_rec_cnt(x))\n",
    "        \n",
    "fibonacci_rec_func2(31)"
   ]
  },
  {
   "cell_type": "code",
   "execution_count": 115,
   "id": "39b7e26e",
   "metadata": {},
   "outputs": [
    {
     "name": "stdout",
     "output_type": "stream",
     "text": [
      "{31: (1, 1346269)}\n"
     ]
    }
   ],
   "source": [
    "print(fib_dict_2)"
   ]
  },
  {
   "cell_type": "markdown",
   "id": "779cff9b",
   "metadata": {},
   "source": [
    "# Aufgabe 5"
   ]
  },
  {
   "cell_type": "code",
   "execution_count": null,
   "id": "dadc9379",
   "metadata": {},
   "outputs": [],
   "source": []
  },
  {
   "cell_type": "code",
   "execution_count": null,
   "id": "92606c4c",
   "metadata": {},
   "outputs": [],
   "source": []
  },
  {
   "cell_type": "code",
   "execution_count": null,
   "id": "772f5060",
   "metadata": {},
   "outputs": [],
   "source": []
  },
  {
   "cell_type": "code",
   "execution_count": null,
   "id": "d50ae661",
   "metadata": {},
   "outputs": [],
   "source": []
  },
  {
   "cell_type": "code",
   "execution_count": null,
   "id": "cf0a97fe",
   "metadata": {},
   "outputs": [],
   "source": []
  },
  {
   "cell_type": "code",
   "execution_count": null,
   "id": "ac923dd4",
   "metadata": {},
   "outputs": [],
   "source": []
  },
  {
   "cell_type": "code",
   "execution_count": null,
   "id": "914ea136",
   "metadata": {},
   "outputs": [],
   "source": []
  },
  {
   "cell_type": "code",
   "execution_count": null,
   "id": "9ed7d483",
   "metadata": {},
   "outputs": [],
   "source": []
  }
 ],
 "metadata": {
  "kernelspec": {
   "display_name": "Python 3 (ipykernel)",
   "language": "python",
   "name": "python3"
  },
  "language_info": {
   "codemirror_mode": {
    "name": "ipython",
    "version": 3
   },
   "file_extension": ".py",
   "mimetype": "text/x-python",
   "name": "python",
   "nbconvert_exporter": "python",
   "pygments_lexer": "ipython3",
   "version": "3.9.7"
  }
 },
 "nbformat": 4,
 "nbformat_minor": 5
}
