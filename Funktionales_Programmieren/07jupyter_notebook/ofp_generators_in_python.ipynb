{
 "cells": [
  {
   "cell_type": "code",
   "execution_count": 1,
   "id": "316678d4",
   "metadata": {},
   "outputs": [],
   "source": [
    "# Generators\n",
    "\n",
    "# Generators funktionieren wie Iteratoren. (Iteratoren = Schleife ueber ein Objekt im Arbeitsspeicher)\n",
    "# Generators generieren Elemente in einer Schleife\n",
    "# \"Auf Anfrage\" Iteration"
   ]
  },
  {
   "cell_type": "code",
   "execution_count": 2,
   "id": "bfe00a37",
   "metadata": {},
   "outputs": [
    {
     "name": "stdout",
     "output_type": "stream",
     "text": [
      "1\n"
     ]
    }
   ],
   "source": [
    "# Beispiel einer Iteration\n",
    "def f():\n",
    "    return 1\n",
    "    return 2\n",
    "    return 3\n",
    "\n",
    "print(f()) \n",
    "# Wir erhalten 1, denn nach einem return geht die Funktion nicht mehr weiter."
   ]
  },
  {
   "cell_type": "code",
   "execution_count": 3,
   "id": "eae652d3",
   "metadata": {},
   "outputs": [
    {
     "name": "stdout",
     "output_type": "stream",
     "text": [
      "<generator object g at 0x000001F9A7527580>\n"
     ]
    }
   ],
   "source": [
    "# Beispiel mit Generatoren\n",
    "def g():\n",
    "    yield 1\n",
    "    yield 2\n",
    "    yield 3\n",
    "\n",
    "print(g())\n",
    "# wir erhalten einen Generator Objekt g. "
   ]
  },
  {
   "cell_type": "code",
   "execution_count": 4,
   "id": "ab501cd3",
   "metadata": {},
   "outputs": [
    {
     "name": "stdout",
     "output_type": "stream",
     "text": [
      "1\n",
      "2\n",
      "3\n"
     ]
    }
   ],
   "source": [
    "# Wir koennen nun ueber diesen Generator eine Schleife bauen\n",
    "for x in g():\n",
    "    print(x)"
   ]
  },
  {
   "cell_type": "code",
   "execution_count": 5,
   "id": "49188c89",
   "metadata": {},
   "outputs": [
    {
     "name": "stdout",
     "output_type": "stream",
     "text": [
      "a, b, c, d, e, f, g, h, i, j, k, l, m, n, o, p, q, r, s, t, u, v, w, x, y, z, "
     ]
    }
   ],
   "source": [
    "# Weiters Beispiel mit Genratoren\n",
    "import string\n",
    "\n",
    "# Generiere alphabetisch klein Buchstaben\n",
    "def letters():\n",
    "    for c in string.ascii_lowercase:\n",
    "        yield c\n",
    "\n",
    "for letter in letters():\n",
    "    print(letter, end = \", \")"
   ]
  },
  {
   "cell_type": "code",
   "execution_count": 6,
   "id": "619f238e",
   "metadata": {
    "scrolled": true
   },
   "outputs": [
    {
     "name": "stdout",
     "output_type": "stream",
     "text": [
      "2, 3, 5, 7, 9, 11, 13, 15, 17, 19, 21, 23, 25, 27, 29, 31, "
     ]
    }
   ],
   "source": [
    "# Weiteres Beispiel \n",
    "\n",
    "import itertools\n",
    "\n",
    "def prime_numbers():\n",
    "    # Erste Primzahl\n",
    "    yield 2\n",
    "    prime_cache = [2] # Zwischenspeicherung von primzahlen\n",
    "    \n",
    "    for n in itertools.count(3,2): # Startet von 3, 5, 7, 9 etc.... \n",
    "        is_prime = True\n",
    "        \n",
    "        for p in prime_cache:\n",
    "            if n % p == 0: # Wenn n rest 2 = 0, keine primzahl\n",
    "                is_prime = False\n",
    "            break\n",
    "        \n",
    "        if is_prime:\n",
    "            prime_cache.append(n)\n",
    "            yield n\n",
    "            \n",
    "for prime in prime_numbers():\n",
    "    print(prime, end = \", \")\n",
    "    if prime > 30:\n",
    "        break\n",
    "     \n",
    "    \n",
    "    "
   ]
  },
  {
   "cell_type": "code",
   "execution_count": 7,
   "id": "fb53afdf",
   "metadata": {},
   "outputs": [
    {
     "name": "stdout",
     "output_type": "stream",
     "text": [
      "1, 4, 9, 16, 25, 36, 49, 64, 81, 100, 121, 144, 169, 196, 225, 256, 289, 324, 361, 400, 441, 484, 529, "
     ]
    }
   ],
   "source": [
    "# Generator comprehension\n",
    "import itertools\n",
    "\n",
    "squares = (x ** 2 for x in itertools.count(1)) # Zaehlt von 1 bis uneneldich\n",
    "\n",
    "for x in squares:\n",
    "    print(x, end = \", \")\n",
    "    if x > 500:\n",
    "        squares.close() # beenden der for schleife"
   ]
  },
  {
   "cell_type": "code",
   "execution_count": 8,
   "id": "ccc7d9f8",
   "metadata": {},
   "outputs": [
    {
     "name": "stdout",
     "output_type": "stream",
     "text": [
      "<class 'generator'>\n"
     ]
    }
   ],
   "source": [
    "# Checken, was fuer ein typ es ist.\n",
    "\n",
    "print(type(squares))"
   ]
  },
  {
   "cell_type": "code",
   "execution_count": 9,
   "id": "fe865cd2",
   "metadata": {},
   "outputs": [
    {
     "name": "stdout",
     "output_type": "stream",
     "text": [
      "(100, 400, 900)\n"
     ]
    }
   ],
   "source": [
    "# um tupple comprehension zu machen, muss man die funktion tuple() verwenden.\n",
    "\n",
    "liste = [10,20,30]\n",
    "print(tuple(x ** 2 for x in liste))"
   ]
  }
 ],
 "metadata": {
  "kernelspec": {
   "display_name": "Python 3 (ipykernel)",
   "language": "python",
   "name": "python3"
  },
  "language_info": {
   "codemirror_mode": {
    "name": "ipython",
    "version": 3
   },
   "file_extension": ".py",
   "mimetype": "text/x-python",
   "name": "python",
   "nbconvert_exporter": "python",
   "pygments_lexer": "ipython3",
   "version": "3.9.7"
  }
 },
 "nbformat": 4,
 "nbformat_minor": 5
}
